{
 "cells": [
  {
   "cell_type": "code",
   "execution_count": 7,
   "metadata": {},
   "outputs": [
    {
     "name": "stdout",
     "output_type": "stream",
     "text": [
      "WE, THE PEOPLE OF INDIA, \n",
      "\thaving solemnly resolved to constitute India into a SOVEREIGN,!\n",
      "\t\tSOCIALIST, SECULAR, DEMOCRATIC REPUBLIC \n",
      "\t\t and to secure to all its citizens:\n"
     ]
    }
   ],
   "source": [
    "s=\"WE, THE PEOPLE OF INDIA, having solemnly resolved to constitute India into a SOVEREIGN, SOCIALIST, SECULAR, DEMOCRATIC REPUBLIC and to secure to all its citizens\"\n",
    "\n",
    "s1=\"\"\n",
    "s2=\"\"\n",
    "s3=\"\"\n",
    "s4=\"\"\n",
    "      \n",
    "start_offset = s.find('WE')\n",
    "end_offset = s.find('having')\n",
    "s1 = s[start_offset:end_offset]\n",
    "print (s1)\n",
    "\n",
    "start_offset = s.find('having')\n",
    "end_offset = s.find('SOCIALIST')\n",
    "s2 = s[start_offset:end_offset-1]\n",
    "print(\"\\t\"+s2+\"!\")\n",
    "\n",
    "\n",
    "\n",
    "start_offset = s.find('SOCIALIST')\n",
    "end_offset = s.find('and')\n",
    "s3=s[start_offset:end_offset]\n",
    "print(\"\\t\\t\"+s3)\n",
    "\n",
    "start_offset = s.find('and')\n",
    "s4=s[start_offset:]\n",
    "print(\"\\t\\t \"+s4+\":\")\n",
    "\n",
    "\n"
   ]
  },
  {
   "cell_type": "markdown",
   "metadata": {},
   "source": [
    "In my jupyter notebook tab is taking 8 spaces"
   ]
  }
 ],
 "metadata": {
  "kernelspec": {
   "display_name": "Python 3",
   "language": "python",
   "name": "python3"
  },
  "language_info": {
   "codemirror_mode": {
    "name": "ipython",
    "version": 3
   },
   "file_extension": ".py",
   "mimetype": "text/x-python",
   "name": "python",
   "nbconvert_exporter": "python",
   "pygments_lexer": "ipython3",
   "version": "3.5.5"
  }
 },
 "nbformat": 4,
 "nbformat_minor": 2
}
